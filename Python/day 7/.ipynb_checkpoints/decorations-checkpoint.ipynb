{
 "cells": [
  {
   "cell_type": "code",
   "execution_count": 4,
   "metadata": {},
   "outputs": [
    {
     "name": "stdout",
     "output_type": "stream",
     "text": [
      "This is outer function\n"
     ]
    }
   ],
   "source": [
    "def funca():\n",
    "    print(\"This is a separate inner functions\")\n",
    "def funcb(f):\n",
    "    print(\"This is outer function\")\n",
    "    def funcc():\n",
    "        f()\n",
    "        print(\"This is an inner function\")\n",
    "    return funcc\n",
    "funca = funcb(funca)"
   ]
  },
  {
   "cell_type": "code",
   "execution_count": 5,
   "metadata": {},
   "outputs": [
    {
     "name": "stdout",
     "output_type": "stream",
     "text": [
      "This is a separate inner functions\n",
      "This is an inner function\n"
     ]
    }
   ],
   "source": [
    "funca()"
   ]
  },
  {
   "cell_type": "code",
   "execution_count": 6,
   "metadata": {},
   "outputs": [
    {
     "name": "stdout",
     "output_type": "stream",
     "text": [
      "This is outer function\n"
     ]
    }
   ],
   "source": [
    "funca = funcb(funca)"
   ]
  },
  {
   "cell_type": "code",
   "execution_count": 7,
   "metadata": {},
   "outputs": [
    {
     "name": "stdout",
     "output_type": "stream",
     "text": [
      "This is a separate inner functions\n",
      "This is an inner function\n",
      "This is an inner function\n"
     ]
    }
   ],
   "source": [
    "funca()"
   ]
  },
  {
   "cell_type": "code",
   "execution_count": 8,
   "metadata": {},
   "outputs": [],
   "source": [
    "def funca():\n",
    "    print(\"This is a separate inner functions\")\n",
    "def funcb(f):\n",
    "    def funcc():\n",
    "        f()\n",
    "        print(\"This is an inner function\")\n",
    "    return funcc\n",
    "funca = funcb(funca)"
   ]
  },
  {
   "cell_type": "code",
   "execution_count": 9,
   "metadata": {},
   "outputs": [
    {
     "name": "stdout",
     "output_type": "stream",
     "text": [
      "This is a separate inner functions\n",
      "This is an inner function\n"
     ]
    }
   ],
   "source": [
    "funca()"
   ]
  },
  {
   "cell_type": "code",
   "execution_count": 35,
   "metadata": {},
   "outputs": [],
   "source": [
    "def funca(msg):\n",
    "    print(msg)\n",
    "def funcb(f):\n",
    "    def funcc(msg):\n",
    "        f(msg)\n",
    "        print(\"This is an inner function\")\n",
    "    return funcc\n"
   ]
  },
  {
   "cell_type": "code",
   "execution_count": 36,
   "metadata": {},
   "outputs": [],
   "source": [
    "funca = funcb(funca)"
   ]
  },
  {
   "cell_type": "code",
   "execution_count": 37,
   "metadata": {},
   "outputs": [
    {
     "name": "stdout",
     "output_type": "stream",
     "text": [
      "Hello\n",
      "This is an inner function\n"
     ]
    }
   ],
   "source": [
    "funca('Hello')"
   ]
  },
  {
   "cell_type": "code",
   "execution_count": 38,
   "metadata": {},
   "outputs": [],
   "source": [
    "def funcb(f):\n",
    "    def funcc(msg):\n",
    "        f(msg)\n",
    "        print(\"This is an inner function\")\n",
    "    return funcc\n",
    "\n",
    "@funcb\n",
    "def funca(msg):\n",
    "    print(msg)\n"
   ]
  },
  {
   "cell_type": "code",
   "execution_count": 39,
   "metadata": {},
   "outputs": [
    {
     "name": "stdout",
     "output_type": "stream",
     "text": [
      "Bood Bye\n",
      "This is an inner function\n"
     ]
    }
   ],
   "source": [
    "funca(\"Bood Bye\")"
   ]
  },
  {
   "cell_type": "code",
   "execution_count": 40,
   "metadata": {},
   "outputs": [],
   "source": [
    "def star(funcs):\n",
    "    def inner(*args):\n",
    "        print(\"*\" * 15)\n",
    "        funcs(*args)\n",
    "        print(\"*\" * 15)\n",
    "    return inner\n",
    "\n",
    "def hasha(funcs):\n",
    "    def inner(*args):\n",
    "        print(\"#\" * 15)\n",
    "        funcs(*args)\n",
    "        print(\"#\" * 15)\n",
    "    return inner\n",
    "\n",
    "def display(msg):\n",
    "    print(msg)\n",
    "    \n",
    "display = hasha(display)"
   ]
  },
  {
   "cell_type": "code",
   "execution_count": 41,
   "metadata": {},
   "outputs": [
    {
     "name": "stdout",
     "output_type": "stream",
     "text": [
      "###############\n",
      "Crazy\n",
      "###############\n"
     ]
    }
   ],
   "source": [
    "display(\"Crazy\")"
   ]
  },
  {
   "cell_type": "code",
   "execution_count": 42,
   "metadata": {},
   "outputs": [],
   "source": [
    "display = star(display)"
   ]
  },
  {
   "cell_type": "code",
   "execution_count": 43,
   "metadata": {},
   "outputs": [
    {
     "name": "stdout",
     "output_type": "stream",
     "text": [
      "***************\n",
      "###############\n",
      "Stupid\n",
      "###############\n",
      "***************\n"
     ]
    }
   ],
   "source": [
    "display(\"Stupid\")"
   ]
  },
  {
   "cell_type": "code",
   "execution_count": 44,
   "metadata": {},
   "outputs": [],
   "source": [
    "def star(funcs):\n",
    "    def inner(*args):\n",
    "        print(\"*\" * 15)\n",
    "        funcs(*args)\n",
    "        print(\"*\" * 15)\n",
    "    return inner\n",
    "\n",
    "def hasha(funcs):\n",
    "    def inner(args):\n",
    "        print(\"#\" * 15)\n",
    "        funcs(args)\n",
    "        print(\"#\" * 15)\n",
    "    return inner\n",
    "\n",
    "def display(msg):\n",
    "    print(msg)\n",
    "    \n",
    "display = hasha(display)"
   ]
  },
  {
   "cell_type": "code",
   "execution_count": 45,
   "metadata": {},
   "outputs": [
    {
     "name": "stdout",
     "output_type": "stream",
     "text": [
      "###############\n",
      "What's going on here?\n",
      "###############\n"
     ]
    }
   ],
   "source": [
    "display(\"What's going on here?\")"
   ]
  },
  {
   "cell_type": "code",
   "execution_count": 46,
   "metadata": {},
   "outputs": [],
   "source": [
    "display = star(display)"
   ]
  },
  {
   "cell_type": "code",
   "execution_count": 47,
   "metadata": {},
   "outputs": [
    {
     "name": "stdout",
     "output_type": "stream",
     "text": [
      "***************\n",
      "###############\n",
      "OMG\n",
      "###############\n",
      "***************\n"
     ]
    }
   ],
   "source": [
    "display(\"OMG\")"
   ]
  },
  {
   "cell_type": "code",
   "execution_count": 61,
   "metadata": {},
   "outputs": [],
   "source": [
    "def star(funcs):\n",
    "    def inner(*args):\n",
    "        print(\"*\" * 15)\n",
    "        funcs(*args)\n",
    "        print(\"*\" * 15)\n",
    "    return inner\n",
    "\n",
    "def hasha(funcs):\n",
    "    def inner(*args):\n",
    "        print(\"#\" * 15)\n",
    "        funcs(*args)\n",
    "        print(\"#\" * 15)\n",
    "    return inner\n",
    "\n",
    "def display(msg):\n",
    "    print(msg)\n",
    "    \n",
    "display = hasha(display)\n",
    "display = star(display)\n",
    "    "
   ]
  },
  {
   "cell_type": "code",
   "execution_count": 62,
   "metadata": {},
   "outputs": [
    {
     "name": "stdout",
     "output_type": "stream",
     "text": [
      "***************\n",
      "###############\n",
      "Hello\n",
      "###############\n",
      "***************\n"
     ]
    }
   ],
   "source": [
    "display(\"Hello\")"
   ]
  },
  {
   "cell_type": "code",
   "execution_count": null,
   "metadata": {},
   "outputs": [],
   "source": []
  }
 ],
 "metadata": {
  "kernelspec": {
   "display_name": "Python 3",
   "language": "python",
   "name": "python3"
  },
  "language_info": {
   "codemirror_mode": {
    "name": "ipython",
    "version": 3
   },
   "file_extension": ".py",
   "mimetype": "text/x-python",
   "name": "python",
   "nbconvert_exporter": "python",
   "pygments_lexer": "ipython3",
   "version": "3.7.4"
  }
 },
 "nbformat": 4,
 "nbformat_minor": 2
}
