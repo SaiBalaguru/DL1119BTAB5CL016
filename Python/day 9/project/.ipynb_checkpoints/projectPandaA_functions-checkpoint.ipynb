{
 "cells": [
  {
   "cell_type": "code",
   "execution_count": 56,
   "metadata": {},
   "outputs": [],
   "source": [
    "import pandas as pd\n",
    "df1= pd.read_excel('Excel_old.xlsx')\n",
    "df2= pd.read_excel('Excel_new.xlsx')\n",
    "df1['id']=df1['Unique ID']+df1['Data Point']\n",
    "df2['Id']=df1['Unique ID']+df1['Data Point']\n",
    "       "
   ]
  },
  {
   "cell_type": "code",
   "execution_count": 166,
   "metadata": {},
   "outputs": [],
   "source": [
    "def create_dict(cid,c,df):\n",
    "    dict_temp = {}\n",
    "    df_temp = df \n",
    "    colid=cid\n",
    "    col=c\n",
    "    for row in range(0,df_temp.shape[0]):\n",
    "        dict_temp[df_temp.iloc[row,colid]]=df_temp.iloc[row,col]\n",
    "    return dict_temp"
   ]
  },
  {
   "cell_type": "code",
   "execution_count": 167,
   "metadata": {},
   "outputs": [],
   "source": [
    "list_old = []\n",
    "for i in range(2,len(df1.columns)-1):\n",
    "    list_old.append(create_dict(6,i,df1))\n",
    "# print(list_old)\n"
   ]
  },
  {
   "cell_type": "code",
   "execution_count": 168,
   "metadata": {},
   "outputs": [],
   "source": [
    "list_new = []\n",
    "for i in range(2,len(df2.columns)-1):\n",
    "    list_new.append(create_dict(6,i,df2))\n",
    "# print(list_new)\n"
   ]
  },
  {
   "cell_type": "code",
   "execution_count": 169,
   "metadata": {},
   "outputs": [],
   "source": [
    "list_diff = []\n",
    "def diff_dict():\n",
    "    for i in range(len(list_new)):\n",
    "        temp = {}\n",
    "        for key in list_new[i].keys():\n",
    "            if key not in list_old[i].keys():\n",
    "                temp[key] = list_new[i][key]\n",
    "            else:\n",
    "                temp[key] = list_new[i][key] - list_old[i][key]\n",
    "        list_diff.append(temp)\n",
    "    \n",
    "    "
   ]
  },
  {
   "cell_type": "code",
   "execution_count": 170,
   "metadata": {},
   "outputs": [
    {
     "data": {
      "text/plain": [
       "[{'AbcVar_a': 0,\n",
       "  'AbcVar_b': 0,\n",
       "  'DefVar_a': 0,\n",
       "  'DefVar_b': 0,\n",
       "  'GhiVar_a': -8,\n",
       "  'GhiVar_b': 0,\n",
       "  'JklVar_a': 0,\n",
       "  'JlkVar_b': 0,\n",
       "  'MnoVar_a': 0,\n",
       "  'MnoVar_b': 0},\n",
       " {'AbcVar_a': 0,\n",
       "  'AbcVar_b': 0,\n",
       "  'DefVar_a': 0,\n",
       "  'DefVar_b': 0,\n",
       "  'GhiVar_a': 0,\n",
       "  'GhiVar_b': 0,\n",
       "  'JklVar_a': 5000,\n",
       "  'JlkVar_b': 0,\n",
       "  'MnoVar_a': 0,\n",
       "  'MnoVar_b': 0},\n",
       " {'AbcVar_a': 0,\n",
       "  'AbcVar_b': -352,\n",
       "  'DefVar_a': 0,\n",
       "  'DefVar_b': 0,\n",
       "  'GhiVar_a': 423,\n",
       "  'GhiVar_b': 0,\n",
       "  'JklVar_a': 0,\n",
       "  'JlkVar_b': 0,\n",
       "  'MnoVar_a': 0,\n",
       "  'MnoVar_b': 0},\n",
       " {'AbcVar_a': 0,\n",
       "  'AbcVar_b': 0,\n",
       "  'DefVar_a': -389,\n",
       "  'DefVar_b': 0,\n",
       "  'GhiVar_a': 0,\n",
       "  'GhiVar_b': 0,\n",
       "  'JklVar_a': 0,\n",
       "  'JlkVar_b': 0,\n",
       "  'MnoVar_a': -55,\n",
       "  'MnoVar_b': 0}]"
      ]
     },
     "execution_count": 170,
     "metadata": {},
     "output_type": "execute_result"
    }
   ],
   "source": [
    "diff_dict()\n",
    "list_diff"
   ]
  },
  {
   "cell_type": "code",
   "execution_count": null,
   "metadata": {},
   "outputs": [],
   "source": []
  },
  {
   "cell_type": "code",
   "execution_count": 192,
   "metadata": {},
   "outputs": [],
   "source": [
    "df_name1=pd.DataFrame({'Unique ID':df2['Unique ID'],'Data Point':df2['Data Point']})\n",
    "def create_df():\n",
    "    col_name = df2.columns[2:len(df2.columns)-1]\n",
    "    for i in range(len(list_diff)):\n",
    "        print(col_name[i])\n",
    "        print(list_diff[i].values())\n",
    "        df_name1[str(col_name[i])] = list_diff[i].values()\n",
    "\n",
    "# df_name['a'] = list_diff[0].values()"
   ]
  },
  {
   "cell_type": "code",
   "execution_count": 193,
   "metadata": {
    "scrolled": true
   },
   "outputs": [
    {
     "name": "stdout",
     "output_type": "stream",
     "text": [
      "2020\n",
      "dict_values([0, 0, 0, 0, -8, 0, 0, 0, 0, 0])\n",
      "2021\n",
      "dict_values([0, 0, 0, 0, 0, 0, 5000, 0, 0, 0])\n",
      "2022\n",
      "dict_values([0, -352, 0, 0, 423, 0, 0, 0, 0, 0])\n",
      "2023\n",
      "dict_values([0, 0, -389, 0, 0, 0, 0, 0, -55, 0])\n"
     ]
    }
   ],
   "source": [
    "create_df()"
   ]
  },
  {
   "cell_type": "code",
   "execution_count": 194,
   "metadata": {},
   "outputs": [
    {
     "ename": "NameError",
     "evalue": "name 'df_name1' is not defined",
     "output_type": "error",
     "traceback": [
      "\u001b[1;31m---------------------------------------------------------------------------\u001b[0m",
      "\u001b[1;31mNameError\u001b[0m                                 Traceback (most recent call last)",
      "\u001b[1;32m<ipython-input-194-0dadb7f13807>\u001b[0m in \u001b[0;36m<module>\u001b[1;34m\u001b[0m\n\u001b[1;32m----> 1\u001b[1;33m \u001b[0mdf_name1\u001b[0m\u001b[1;33m\u001b[0m\u001b[1;33m\u001b[0m\u001b[0m\n\u001b[0m",
      "\u001b[1;31mNameError\u001b[0m: name 'df_name1' is not defined"
     ]
    }
   ],
   "source": [
    "df_name1"
   ]
  },
  {
   "cell_type": "code",
   "execution_count": null,
   "metadata": {},
   "outputs": [],
   "source": []
  },
  {
   "cell_type": "code",
   "execution_count": null,
   "metadata": {},
   "outputs": [],
   "source": []
  },
  {
   "cell_type": "code",
   "execution_count": null,
   "metadata": {},
   "outputs": [],
   "source": []
  }
 ],
 "metadata": {
  "kernelspec": {
   "display_name": "Python 3",
   "language": "python",
   "name": "python3"
  },
  "language_info": {
   "codemirror_mode": {
    "name": "ipython",
    "version": 3
   },
   "file_extension": ".py",
   "mimetype": "text/x-python",
   "name": "python",
   "nbconvert_exporter": "python",
   "pygments_lexer": "ipython3",
   "version": "3.7.4"
  }
 },
 "nbformat": 4,
 "nbformat_minor": 2
}
