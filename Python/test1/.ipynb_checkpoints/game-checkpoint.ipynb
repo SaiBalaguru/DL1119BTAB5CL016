{
 "cells": [
  {
   "cell_type": "code",
   "execution_count": null,
   "metadata": {},
   "outputs": [],
   "source": [
    "win = 2\n",
    "lost = 0\n",
    "draw = 1\n",
    "poola = {\"A\":0,\"B\":0,\"C\":0,\"D\":0}\n",
    "poolb = {\"E\":0,\"F\":0,\"G\":0,\"H\":0}\n",
    "poolc = {\"I\":0,\"J\":0,\"K\":0,\"L\":0}\n",
    "poold = {\"M\":0,\"N\":0,\"O\":0,\"P\":0}\n",
    "def match(team1,team2):\n",
    "    print(team1,\" vs \",team2)\n",
    "    scorea =   \n",
    "    "
   ]
  }
 ],
 "metadata": {
  "kernelspec": {
   "display_name": "Python 3",
   "language": "python",
   "name": "python3"
  },
  "language_info": {
   "codemirror_mode": {
    "name": "ipython",
    "version": 3
   },
   "file_extension": ".py",
   "mimetype": "text/x-python",
   "name": "python",
   "nbconvert_exporter": "python",
   "pygments_lexer": "ipython3",
   "version": "3.7.4"
  }
 },
 "nbformat": 4,
 "nbformat_minor": 2
}
