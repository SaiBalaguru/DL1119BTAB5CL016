{
 "cells": [
  {
   "cell_type": "code",
   "execution_count": 24,
   "metadata": {},
   "outputs": [
    {
     "name": "stdout",
     "output_type": "stream",
     "text": [
      "Enter the equation in the form: ax^2+bx+c\n",
      "1x^2+2x+2\n"
     ]
    }
   ],
   "source": [
    "import math\n",
    "print(\"Enter the equation in the form: ax^2+bx+c\")\n",
    "# get input\n",
    "eqn = input()"
   ]
  },
  {
   "cell_type": "code",
   "execution_count": 25,
   "metadata": {},
   "outputs": [
    {
     "name": "stdout",
     "output_type": "stream",
     "text": [
      "1\n",
      "2\n",
      "2\n"
     ]
    }
   ],
   "source": [
    "temp= 0\n",
    "# get a\n",
    "for temp in range(len(eqn)):\n",
    "    if (eqn[temp])==\"^\":\n",
    "        a = int(eqn[:temp-1])\n",
    "        acoeff = temp+2\n",
    "#get b\n",
    "for temp in range(acoeff+1,len(eqn)):\n",
    "    if (eqn[temp])==\"x\":\n",
    "        b = int(eqn[acoeff+1:temp])\n",
    "        bcoeff = temp\n",
    "# get c\n",
    "c = int(eqn[bcoeff+2:len(eqn)])\n",
    "print(a)\n",
    "print(b)\n",
    "print(c)"
   ]
  },
  {
   "cell_type": "code",
   "execution_count": 31,
   "metadata": {},
   "outputs": [
    {
     "name": "stdout",
     "output_type": "stream",
     "text": [
      "The complex roots are:  -1.0 +/- -1.0i"
     ]
    }
   ],
   "source": [
    "# find determinant\n",
    "dtr = (b*b) - (4*a*c)\n",
    "# check for real or complex\n",
    "if dtr>=0:\n",
    "    root1 = -1*b + math.sqrt(dtr)\n",
    "    root1 = root1/(2*a)\n",
    "    root2 = -1*b - math.sqrt(dtr)\n",
    "    root2 = root2/(2*a)\n",
    "    print(\"The roots are: \",root1,root2)\n",
    "else :\n",
    "    dtr = -dtr\n",
    "    root1r = -1*b/(2*a)  \n",
    "    root1i = (math.sqrt(dtr)/(2*a))\n",
    "    print(\"The complex roots are: \",root1r,end = \" \")\n",
    "    print(\"+/-\",str(str(root1r)+\"i\"),end = \"\")"
   ]
  },
  {
   "cell_type": "code",
   "execution_count": null,
   "metadata": {},
   "outputs": [],
   "source": []
  }
 ],
 "metadata": {
  "kernelspec": {
   "display_name": "Python 3",
   "language": "python",
   "name": "python3"
  },
  "language_info": {
   "codemirror_mode": {
    "name": "ipython",
    "version": 3
   },
   "file_extension": ".py",
   "mimetype": "text/x-python",
   "name": "python",
   "nbconvert_exporter": "python",
   "pygments_lexer": "ipython3",
   "version": "3.7.4"
  }
 },
 "nbformat": 4,
 "nbformat_minor": 2
}
