{
 "cells": [
  {
   "cell_type": "code",
   "execution_count": 56,
   "metadata": {},
   "outputs": [],
   "source": [
    "import pandas as pd\n",
    "df1= pd.read_excel('Excel_old.xlsx')\n",
    "df2= pd.read_excel('Excel_new.xlsx')\n",
    "df1['id']=df1['Unique ID']+df1['Data Point']\n",
    "df2['Id']=df1['Unique ID']+df1['Data Point']\n",
    "       "
   ]
  },
  {
   "cell_type": "code",
   "execution_count": 166,
   "metadata": {},
   "outputs": [],
   "source": [
    "def create_dict(cid,c,df):\n",
    "    dict_temp = {}\n",
    "    df_temp = df \n",
    "    colid=cid\n",
    "    col=c\n",
    "    for row in range(0,df_temp.shape[0]):\n",
    "        dict_temp[df_temp.iloc[row,colid]]=df_temp.iloc[row,col]\n",
    "    return dict_temp"
   ]
  },
  {
   "cell_type": "code",
   "execution_count": 167,
   "metadata": {},
   "outputs": [],
   "source": [
    "list_old = []\n",
    "for i in range(2,len(df1.columns)-1):\n",
    "    list_old.append(create_dict(6,i,df1))\n",
    "# print(list_old)\n"
   ]
  },
  {
   "cell_type": "code",
   "execution_count": 168,
   "metadata": {},
   "outputs": [],
   "source": [
    "list_new = []\n",
    "for i in range(2,len(df2.columns)-1):\n",
    "    list_new.append(create_dict(6,i,df2))\n",
    "# print(list_new)\n"
   ]
  },
  {
   "cell_type": "code",
   "execution_count": 169,
   "metadata": {},
   "outputs": [],
   "source": [
    "list_diff = []\n",
    "def diff_dict():\n",
    "    for i in range(len(list_new)):\n",
    "        temp = {}\n",
    "        for key in list_new[i].keys():\n",
    "            if key not in list_old[i].keys():\n",
    "                temp[key] = list_new[i][key]\n",
    "            else:\n",
    "                temp[key] = list_new[i][key] - list_old[i][key]\n",
    "        list_diff.append(temp)\n",
    "    \n",
    "    "
   ]
  },
  {
   "cell_type": "code",
   "execution_count": null,
   "metadata": {},
   "outputs": [],
   "source": []
  },
  {
   "cell_type": "code",
   "execution_count": null,
   "metadata": {},
   "outputs": [],
   "source": []
  },
  {
   "cell_type": "code",
   "execution_count": 198,
   "metadata": {},
   "outputs": [],
   "source": [
    "df_name1=pd.DataFrame({'Unique ID':df2['Unique ID'],'Data Point':df2['Data Point']})\n",
    "def create_df():\n",
    "    col_name = df2.columns[2:len(df2.columns)-1]\n",
    "    for i in range(len(list_diff)):\n",
    "#         print(col_name[i])\n",
    "#         print(list_diff[i].values())\n",
    "        df_name1[str(col_name[i])] = list_diff[i].values()\n",
    "\n",
    "# df_name['a'] = list_diff[0].values()"
   ]
  },
  {
   "cell_type": "code",
   "execution_count": 199,
   "metadata": {
    "scrolled": true
   },
   "outputs": [],
   "source": [
    "create_df()"
   ]
  },
  {
   "cell_type": "code",
   "execution_count": 200,
   "metadata": {},
   "outputs": [
    {
     "data": {
      "text/html": [
       "<div>\n",
       "<style scoped>\n",
       "    .dataframe tbody tr th:only-of-type {\n",
       "        vertical-align: middle;\n",
       "    }\n",
       "\n",
       "    .dataframe tbody tr th {\n",
       "        vertical-align: top;\n",
       "    }\n",
       "\n",
       "    .dataframe thead th {\n",
       "        text-align: right;\n",
       "    }\n",
       "</style>\n",
       "<table border=\"1\" class=\"dataframe\">\n",
       "  <thead>\n",
       "    <tr style=\"text-align: right;\">\n",
       "      <th></th>\n",
       "      <th>Unique ID</th>\n",
       "      <th>Data Point</th>\n",
       "      <th>2020</th>\n",
       "      <th>2021</th>\n",
       "      <th>2022</th>\n",
       "      <th>2023</th>\n",
       "    </tr>\n",
       "  </thead>\n",
       "  <tbody>\n",
       "    <tr>\n",
       "      <td>0</td>\n",
       "      <td>Abc</td>\n",
       "      <td>Var_a</td>\n",
       "      <td>0</td>\n",
       "      <td>0</td>\n",
       "      <td>0</td>\n",
       "      <td>0</td>\n",
       "    </tr>\n",
       "    <tr>\n",
       "      <td>1</td>\n",
       "      <td>Abc</td>\n",
       "      <td>Var_b</td>\n",
       "      <td>0</td>\n",
       "      <td>0</td>\n",
       "      <td>-352</td>\n",
       "      <td>0</td>\n",
       "    </tr>\n",
       "    <tr>\n",
       "      <td>2</td>\n",
       "      <td>Def</td>\n",
       "      <td>Var_a</td>\n",
       "      <td>0</td>\n",
       "      <td>0</td>\n",
       "      <td>0</td>\n",
       "      <td>-389</td>\n",
       "    </tr>\n",
       "    <tr>\n",
       "      <td>3</td>\n",
       "      <td>Def</td>\n",
       "      <td>Var_b</td>\n",
       "      <td>0</td>\n",
       "      <td>0</td>\n",
       "      <td>0</td>\n",
       "      <td>0</td>\n",
       "    </tr>\n",
       "    <tr>\n",
       "      <td>4</td>\n",
       "      <td>Ghi</td>\n",
       "      <td>Var_a</td>\n",
       "      <td>-8</td>\n",
       "      <td>0</td>\n",
       "      <td>423</td>\n",
       "      <td>0</td>\n",
       "    </tr>\n",
       "    <tr>\n",
       "      <td>5</td>\n",
       "      <td>Ghi</td>\n",
       "      <td>Var_b</td>\n",
       "      <td>0</td>\n",
       "      <td>0</td>\n",
       "      <td>0</td>\n",
       "      <td>0</td>\n",
       "    </tr>\n",
       "    <tr>\n",
       "      <td>6</td>\n",
       "      <td>Jkl</td>\n",
       "      <td>Var_a</td>\n",
       "      <td>0</td>\n",
       "      <td>5000</td>\n",
       "      <td>0</td>\n",
       "      <td>0</td>\n",
       "    </tr>\n",
       "    <tr>\n",
       "      <td>7</td>\n",
       "      <td>Jlk</td>\n",
       "      <td>Var_b</td>\n",
       "      <td>0</td>\n",
       "      <td>0</td>\n",
       "      <td>0</td>\n",
       "      <td>0</td>\n",
       "    </tr>\n",
       "    <tr>\n",
       "      <td>8</td>\n",
       "      <td>Mno</td>\n",
       "      <td>Var_a</td>\n",
       "      <td>0</td>\n",
       "      <td>0</td>\n",
       "      <td>0</td>\n",
       "      <td>-55</td>\n",
       "    </tr>\n",
       "    <tr>\n",
       "      <td>9</td>\n",
       "      <td>Mno</td>\n",
       "      <td>Var_b</td>\n",
       "      <td>0</td>\n",
       "      <td>0</td>\n",
       "      <td>0</td>\n",
       "      <td>0</td>\n",
       "    </tr>\n",
       "  </tbody>\n",
       "</table>\n",
       "</div>"
      ],
      "text/plain": [
       "  Unique ID Data Point  2020  2021  2022  2023\n",
       "0       Abc      Var_a     0     0     0     0\n",
       "1       Abc      Var_b     0     0  -352     0\n",
       "2       Def      Var_a     0     0     0  -389\n",
       "3       Def      Var_b     0     0     0     0\n",
       "4       Ghi      Var_a    -8     0   423     0\n",
       "5       Ghi      Var_b     0     0     0     0\n",
       "6       Jkl      Var_a     0  5000     0     0\n",
       "7       Jlk      Var_b     0     0     0     0\n",
       "8       Mno      Var_a     0     0     0   -55\n",
       "9       Mno      Var_b     0     0     0     0"
      ]
     },
     "execution_count": 200,
     "metadata": {},
     "output_type": "execute_result"
    }
   ],
   "source": [
    "df_name1"
   ]
  },
  {
   "cell_type": "code",
   "execution_count": 201,
   "metadata": {},
   "outputs": [],
   "source": [
    "def color_red(value):\n",
    "    color = 'red' if (value!=0 and type(value)!=str) else 'black'\n",
    "    return 'color: %s' %color\n",
    "df=df_name1.style.applymap(color_red)"
   ]
  },
  {
   "cell_type": "code",
   "execution_count": 203,
   "metadata": {},
   "outputs": [],
   "source": [
    "df\n",
    "df.to_excel(\"Final.xlsx\",index =False)"
   ]
  },
  {
   "cell_type": "code",
   "execution_count": null,
   "metadata": {},
   "outputs": [],
   "source": []
  }
 ],
 "metadata": {
  "kernelspec": {
   "display_name": "Python 3",
   "language": "python",
   "name": "python3"
  },
  "language_info": {
   "codemirror_mode": {
    "name": "ipython",
    "version": 3
   },
   "file_extension": ".py",
   "mimetype": "text/x-python",
   "name": "python",
   "nbconvert_exporter": "python",
   "pygments_lexer": "ipython3",
   "version": "3.7.4"
  }
 },
 "nbformat": 4,
 "nbformat_minor": 2
}
